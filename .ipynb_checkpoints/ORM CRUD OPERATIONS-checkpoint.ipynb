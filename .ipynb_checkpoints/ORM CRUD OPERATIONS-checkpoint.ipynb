{
 "cells": [
  {
   "cell_type": "markdown",
   "id": "3bd23033",
   "metadata": {},
   "source": [
    "## sqlALchemy Object Relational Mapping"
   ]
  },
  {
   "cell_type": "code",
   "execution_count": 3,
   "id": "85e6ed7b",
   "metadata": {
    "scrolled": true
   },
   "outputs": [
    {
     "name": "stdout",
     "output_type": "stream",
     "text": [
      "(101, 'Sundhar Pichai', '24-01-2016', 'Create API with CRUD Operations')\n",
      "(102, 'Elon Musk', '04-11-2013', 'Send and receive data using TCP IP Sockets')\n",
      "(103, 'Jeff Bezos', '16-06-2017', 'Implementation of Conversational SQL with NLP')\n",
      "(104, 'Steve Jobs', '21-01-2018', 'Create  Login Authentication With Flask SQL Server')\n",
      "(105, 'Mackenzie Scott', '13-04-2016', 'Develope a Micro Service with Flask in AWS')\n",
      "(106, 'Paval Durov', '06-05-2014', 'Create Lambda Functions and Invoke it through API Gateway')\n",
      "(107, 'Jack Ma', '18-10-2020', 'Develop a Deep Learning Model to Predict the emotions in text')\n",
      "(108, 'Jeaf Dean', '17-06-2006', 'Deployment of  ML Models in AWS Ec2 instance with Authentication')\n",
      "(109, 'Robert Strenberg', '09-01-2010', 'Create Socket workflow to send Byte Stream Data')\n",
      "(110, 'John David', '27-01-2017', 'Create Lambda Functions and Invoke it through API Gateway')\n",
      "(113, 'David mellon Bhargav', '2020/12/16', 'Bhargav aPP')\n",
      "(114, 'Donald Trump', '2020/12/16', 'Donald aPP')\n"
     ]
    }
   ],
   "source": [
    "from sqlalchemy.orm import sessionmaker\n",
    "from sqlalchemy import create_engine, MetaData, Table, Column, Integer, String\n",
    "import sqlalchemy\n",
    "import pandas as pd\n",
    "\n",
    "meta = MetaData()\n",
    "\n",
    "dbhost = 'rdsmysqlconn.cmr9u9cvruto.us-east-1.rds.amazonaws.com' \n",
    "dbuser = 'dheerajkumar2410' \n",
    "dbpass = 'dheerajkumar2410' \n",
    "dbname = 'customer_database'\n",
    "\n",
    "engine = create_engine('mysql+pymysql://{}:{}@{}/{}'.format(dbuser,dbpass,dbhost,dbname))\n",
    "DBSession = sessionmaker(bind=engine)\n",
    "session = DBSession()\n",
    "\n",
    "class _customer_ :  \n",
    "    customer = Table(\n",
    "       'customer', meta,\n",
    "       Column('Customer_id', Integer,primary_key=True), \n",
    "       Column('Customer_name', String), \n",
    "       Column('Registration_date', String), \n",
    "       Column('Customer_Requirement', String),\n",
    "    )\n",
    "from sqlalchemy.sql import select\n",
    "s = select([_customer_.customer])\n",
    "result = engine.execute(s)\n",
    "cust=[]\n",
    "for i in result:\n",
    "    cust.append(i)\n",
    "    print(i)\n",
    "df = pd.DataFrame(cust,columns=['Customer_id','Customer_name','Registration_date','Customer_Requirement'])\n"
   ]
  },
  {
   "cell_type": "code",
   "execution_count": 11,
   "id": "b19b4773",
   "metadata": {},
   "outputs": [
    {
     "data": {
      "text/html": [
       "<div>\n",
       "<style scoped>\n",
       "    .dataframe tbody tr th:only-of-type {\n",
       "        vertical-align: middle;\n",
       "    }\n",
       "\n",
       "    .dataframe tbody tr th {\n",
       "        vertical-align: top;\n",
       "    }\n",
       "\n",
       "    .dataframe thead th {\n",
       "        text-align: right;\n",
       "    }\n",
       "</style>\n",
       "<table border=\"1\" class=\"dataframe\">\n",
       "  <thead>\n",
       "    <tr style=\"text-align: right;\">\n",
       "      <th></th>\n",
       "      <th>Customer_id</th>\n",
       "      <th>Customer_name</th>\n",
       "      <th>Registration_date</th>\n",
       "      <th>Customer_Requirement</th>\n",
       "    </tr>\n",
       "  </thead>\n",
       "  <tbody>\n",
       "    <tr>\n",
       "      <th>0</th>\n",
       "      <td>101</td>\n",
       "      <td>Sundhar Pichai</td>\n",
       "      <td>24-01-2016</td>\n",
       "      <td>Create API with CRUD Operations</td>\n",
       "    </tr>\n",
       "    <tr>\n",
       "      <th>1</th>\n",
       "      <td>102</td>\n",
       "      <td>Elon Musk</td>\n",
       "      <td>04-11-2013</td>\n",
       "      <td>Send and receive data using TCP IP Sockets</td>\n",
       "    </tr>\n",
       "    <tr>\n",
       "      <th>2</th>\n",
       "      <td>103</td>\n",
       "      <td>Jeff Bezos</td>\n",
       "      <td>16-06-2017</td>\n",
       "      <td>Implementation of Conversational SQL with NLP</td>\n",
       "    </tr>\n",
       "    <tr>\n",
       "      <th>3</th>\n",
       "      <td>104</td>\n",
       "      <td>Steve Jobs</td>\n",
       "      <td>21-01-2018</td>\n",
       "      <td>Create  Login Authentication With Flask SQL Se...</td>\n",
       "    </tr>\n",
       "    <tr>\n",
       "      <th>4</th>\n",
       "      <td>105</td>\n",
       "      <td>Mackenzie Scott</td>\n",
       "      <td>13-04-2016</td>\n",
       "      <td>Develope a Micro Service with Flask in AWS</td>\n",
       "    </tr>\n",
       "    <tr>\n",
       "      <th>5</th>\n",
       "      <td>106</td>\n",
       "      <td>Paval Durov</td>\n",
       "      <td>06-05-2014</td>\n",
       "      <td>Create Lambda Functions and Invoke it through ...</td>\n",
       "    </tr>\n",
       "    <tr>\n",
       "      <th>6</th>\n",
       "      <td>107</td>\n",
       "      <td>Jack Ma</td>\n",
       "      <td>18-10-2020</td>\n",
       "      <td>Develop a Deep Learning Model to Predict the e...</td>\n",
       "    </tr>\n",
       "    <tr>\n",
       "      <th>7</th>\n",
       "      <td>108</td>\n",
       "      <td>Jeaf Dean</td>\n",
       "      <td>17-06-2006</td>\n",
       "      <td>Deployment of  ML Models in AWS Ec2 instance w...</td>\n",
       "    </tr>\n",
       "    <tr>\n",
       "      <th>8</th>\n",
       "      <td>109</td>\n",
       "      <td>Robert Strenberg</td>\n",
       "      <td>09-01-2010</td>\n",
       "      <td>Create Socket workflow to send Byte Stream Data</td>\n",
       "    </tr>\n",
       "    <tr>\n",
       "      <th>9</th>\n",
       "      <td>110</td>\n",
       "      <td>John David</td>\n",
       "      <td>27-01-2017</td>\n",
       "      <td>Create Lambda Functions and Invoke it through ...</td>\n",
       "    </tr>\n",
       "  </tbody>\n",
       "</table>\n",
       "</div>"
      ],
      "text/plain": [
       "  Customer_id     Customer_name Registration_date  \\\n",
       "0         101    Sundhar Pichai        24-01-2016   \n",
       "1         102         Elon Musk        04-11-2013   \n",
       "2         103        Jeff Bezos        16-06-2017   \n",
       "3         104        Steve Jobs        21-01-2018   \n",
       "4         105   Mackenzie Scott        13-04-2016   \n",
       "5         106       Paval Durov        06-05-2014   \n",
       "6         107           Jack Ma        18-10-2020   \n",
       "7         108         Jeaf Dean        17-06-2006   \n",
       "8         109  Robert Strenberg        09-01-2010   \n",
       "9         110        John David        27-01-2017   \n",
       "\n",
       "                                Customer_Requirement  \n",
       "0                    Create API with CRUD Operations  \n",
       "1         Send and receive data using TCP IP Sockets  \n",
       "2      Implementation of Conversational SQL with NLP  \n",
       "3  Create  Login Authentication With Flask SQL Se...  \n",
       "4         Develope a Micro Service with Flask in AWS  \n",
       "5  Create Lambda Functions and Invoke it through ...  \n",
       "6  Develop a Deep Learning Model to Predict the e...  \n",
       "7  Deployment of  ML Models in AWS Ec2 instance w...  \n",
       "8    Create Socket workflow to send Byte Stream Data  \n",
       "9  Create Lambda Functions and Invoke it through ...  "
      ]
     },
     "execution_count": 11,
     "metadata": {},
     "output_type": "execute_result"
    }
   ],
   "source": [
    "df = df.sort_values(\"Customer_id\")\n",
    "df"
   ]
  },
  {
   "cell_type": "code",
   "execution_count": 12,
   "id": "ba58837a",
   "metadata": {},
   "outputs": [],
   "source": [
    "df['Customer_id'] = df['Customer_id'].astype(int)\n",
    "df = df.T.to_json()"
   ]
  },
  {
   "cell_type": "code",
   "execution_count": 15,
   "id": "ddf527f1",
   "metadata": {},
   "outputs": [
    {
     "data": {
      "text/plain": [
       "str"
      ]
     },
     "execution_count": 15,
     "metadata": {},
     "output_type": "execute_result"
    }
   ],
   "source": [
    "type(df)"
   ]
  },
  {
   "cell_type": "code",
   "execution_count": 33,
   "id": "99969052",
   "metadata": {},
   "outputs": [],
   "source": [
    "res = session.execute(select([_customer_.customer]).where(_customer_.customer.c.Customer_id=='150'))"
   ]
  },
  {
   "cell_type": "code",
   "execution_count": 34,
   "id": "50884243",
   "metadata": {},
   "outputs": [
    {
     "name": "stdout",
     "output_type": "stream",
     "text": [
      "('150', 'kirog koshi', '2020/12/16', 'koshi aPP')\n"
     ]
    }
   ],
   "source": [
    "record =[]\n",
    "for i in res:\n",
    "    record.append(i)\n",
    "    print(i)"
   ]
  },
  {
   "cell_type": "code",
   "execution_count": 35,
   "id": "a6a1682f",
   "metadata": {},
   "outputs": [
    {
     "data": {
      "text/html": [
       "<div>\n",
       "<style scoped>\n",
       "    .dataframe tbody tr th:only-of-type {\n",
       "        vertical-align: middle;\n",
       "    }\n",
       "\n",
       "    .dataframe tbody tr th {\n",
       "        vertical-align: top;\n",
       "    }\n",
       "\n",
       "    .dataframe thead th {\n",
       "        text-align: right;\n",
       "    }\n",
       "</style>\n",
       "<table border=\"1\" class=\"dataframe\">\n",
       "  <thead>\n",
       "    <tr style=\"text-align: right;\">\n",
       "      <th></th>\n",
       "      <th>Customer_id</th>\n",
       "      <th>Customer_name</th>\n",
       "      <th>Registration_date</th>\n",
       "      <th>Customer_Requirement</th>\n",
       "    </tr>\n",
       "  </thead>\n",
       "  <tbody>\n",
       "    <tr>\n",
       "      <th>0</th>\n",
       "      <td>150</td>\n",
       "      <td>kirog koshi</td>\n",
       "      <td>2020/12/16</td>\n",
       "      <td>koshi aPP</td>\n",
       "    </tr>\n",
       "  </tbody>\n",
       "</table>\n",
       "</div>"
      ],
      "text/plain": [
       "  Customer_id Customer_name Registration_date Customer_Requirement\n",
       "0         150   kirog koshi        2020/12/16            koshi aPP"
      ]
     },
     "execution_count": 35,
     "metadata": {},
     "output_type": "execute_result"
    }
   ],
   "source": [
    "pd.DataFrame(record,columns=['Customer_id','Customer_name','Registration_date','Customer_Requirement'])"
   ]
  },
  {
   "cell_type": "code",
   "execution_count": 36,
   "id": "7c6f0b5a",
   "metadata": {},
   "outputs": [
    {
     "data": {
      "text/plain": [
       "{'Status': 'Successful',\n",
       " 'Response': {'Customer_id': {'0': '150'},\n",
       "  'Customer_name': {'0': 'kirog koshi'},\n",
       "  'Registration_date': {'0': '2020/12/16'},\n",
       "  'Customer_Requirement': {'0': 'koshi aPP'}}}"
      ]
     },
     "execution_count": 36,
     "metadata": {},
     "output_type": "execute_result"
    }
   ],
   "source": [
    "import json\n",
    "def id(id):\n",
    "    res = session.execute(select([_customer_.customer]).where(_customer_.customer.c.Customer_id==id))\n",
    "    record =[]\n",
    "    for i in res:\n",
    "        record.append(i)\n",
    "    rec = pd.DataFrame(record,columns=['Customer_id','Customer_name','Registration_date','Customer_Requirement'\n",
    "                                      ]).to_json()\n",
    "    return {\"Status\":\"Successful\",\"Response\":json.loads(rec)}\n",
    "id('150')"
   ]
  },
  {
   "cell_type": "code",
   "execution_count": 13,
   "id": "9155e1cf",
   "metadata": {},
   "outputs": [],
   "source": [
    "# pd.DataFrame(cust,columns=['Customer_id','Customer_name','Registration_date','Customer_Requirement'])"
   ]
  },
  {
   "cell_type": "code",
   "execution_count": 18,
   "id": "0e5a7e26",
   "metadata": {},
   "outputs": [
    {
     "data": {
      "text/plain": [
       "'deleted'"
      ]
     },
     "execution_count": 18,
     "metadata": {},
     "output_type": "execute_result"
    }
   ],
   "source": [
    "# DELETE FUNCTION #\n",
    "def delete_val(cust_id):\n",
    "    conn = engine.connect()\n",
    "    stmt = _customer_.customer.delete().where(_customer_.customer.c.Customer_id == cust_id)\n",
    "    conn.execute(stmt)\n",
    "    return \"deleted\"\n",
    "#     s = _customer_.customer.select()\n",
    "#     conn.execute(s).fetchall()\n",
    "delete_val('151')"
   ]
  },
  {
   "cell_type": "code",
   "execution_count": 5,
   "id": "c3c56657",
   "metadata": {},
   "outputs": [
    {
     "data": {
      "text/plain": [
       "'inserted'"
      ]
     },
     "execution_count": 5,
     "metadata": {},
     "output_type": "execute_result"
    }
   ],
   "source": [
    "# INSERT FUNCTION #\n",
    "def insert_val(cust_name,reg_date,cust_req):#cust_id,cust_name,reg_date,cust_req\n",
    "    ins = _customer_.customer.insert()\n",
    "    ins = _customer_.customer.insert().values(Customer_name=cust_name, \\\n",
    "                            Registration_date = reg_date,Customer_Requirement=cust_req)\n",
    "    conn = engine.connect()\n",
    "    result = conn.execute(ins)\n",
    "    return \"inserted\"\n",
    "insert_val('kirog koshi','24/05/2021','koshi aPP')"
   ]
  },
  {
   "cell_type": "code",
   "execution_count": null,
   "id": "f0a1deff",
   "metadata": {},
   "outputs": [],
   "source": [
    "def insert_val(boardNum,status):#cust_id,cust_name,reg_date,cust_req\n",
    "    ins = _customer_.senseon.insert()\n",
    "    ins = Insert(_customer_.senseon).values(boardNum=board_num, \\\n",
    "                                    status = status)\n",
    "    ins = ins.on_duplicate_key_update(board_num=stmt.inserted.board_num)\n",
    "    conn = engine.connect()\n",
    "    return \"inserted\"\n",
    "insert_val('kirog koshi','24/05/2021','koshi aPP')\n",
    "ins = _customer_.senseon.insert()\n",
    "ins = Insert(_customer_.senseon).values(boardNum=board_num, \\\n",
    "                                status = status)\n",
    "ins = ins.on_duplicate_key_update(board_num=stmt.inserted.board_num)\n",
    "conn = engine.connect()"
   ]
  },
  {
   "cell_type": "code",
   "execution_count": 20,
   "id": "c643d34b",
   "metadata": {},
   "outputs": [
    {
     "data": {
      "text/plain": [
       "'updated'"
      ]
     },
     "execution_count": 20,
     "metadata": {},
     "output_type": "execute_result"
    }
   ],
   "source": [
    "# UPDATE FUNCTION #\n",
    "def update_val(p_cust_id,cust_name,reg_date,cust_req):\n",
    "    conn = engine.connect()\n",
    "    stmt=_customer_.customer.update().where(\\\n",
    "                _customer_.customer.c.Customer_id==p_cust_id).values(Customer_name=cust_name,\\\n",
    "                Registration_date=reg_date,\\\n",
    "                Customer_Requirement=cust_req)\n",
    "    conn.execute(stmt)\n",
    "    return \"updated\"\n",
    "update_val('111', 'Dheeraj kumar', '22/10/2018', 'Dheeraj APP')"
   ]
  },
  {
   "cell_type": "code",
   "execution_count": null,
   "id": "e87e8a0b",
   "metadata": {},
   "outputs": [],
   "source": []
  },
  {
   "cell_type": "code",
   "execution_count": null,
   "id": "875db346",
   "metadata": {},
   "outputs": [],
   "source": []
  },
  {
   "cell_type": "code",
   "execution_count": null,
   "id": "f9cb61ec",
   "metadata": {},
   "outputs": [],
   "source": []
  },
  {
   "cell_type": "code",
   "execution_count": null,
   "id": "57d18020",
   "metadata": {},
   "outputs": [],
   "source": []
  },
  {
   "cell_type": "code",
   "execution_count": null,
   "id": "4574e622",
   "metadata": {},
   "outputs": [],
   "source": []
  },
  {
   "cell_type": "code",
   "execution_count": null,
   "id": "78b89197",
   "metadata": {},
   "outputs": [],
   "source": []
  }
 ],
 "metadata": {
  "kernelspec": {
   "display_name": "Python 3",
   "language": "python",
   "name": "python3"
  },
  "language_info": {
   "codemirror_mode": {
    "name": "ipython",
    "version": 3
   },
   "file_extension": ".py",
   "mimetype": "text/x-python",
   "name": "python",
   "nbconvert_exporter": "python",
   "pygments_lexer": "ipython3",
   "version": "3.7.10"
  }
 },
 "nbformat": 4,
 "nbformat_minor": 5
}
