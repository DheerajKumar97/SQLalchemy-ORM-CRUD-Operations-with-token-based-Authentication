{
 "cells": [
  {
   "cell_type": "code",
   "execution_count": 1,
   "id": "35cda665",
   "metadata": {},
   "outputs": [
    {
     "name": "stdout",
     "output_type": "stream",
     "text": [
      "Collecting SQLAlchemy\n",
      "  Downloading SQLAlchemy-1.4.7-cp37-cp37m-win_amd64.whl (1.5 MB)\n",
      "Collecting greenlet!=0.4.17\n",
      "  Using cached greenlet-1.0.0-cp37-cp37m-win_amd64.whl (95 kB)\n",
      "Requirement already satisfied: importlib-metadata in c:\\users\\dell\\anaconda3\\envs\\dais\\lib\\site-packages (from SQLAlchemy) (3.10.0)\n",
      "Requirement already satisfied: typing-extensions>=3.6.4 in c:\\users\\dell\\anaconda3\\envs\\dais\\lib\\site-packages (from importlib-metadata->SQLAlchemy) (3.7.4.3)\n",
      "Requirement already satisfied: zipp>=0.5 in c:\\users\\dell\\anaconda3\\envs\\dais\\lib\\site-packages (from importlib-metadata->SQLAlchemy) (3.4.1)\n",
      "Installing collected packages: greenlet, SQLAlchemy\n",
      "Successfully installed SQLAlchemy-1.4.7 greenlet-1.0.0\n",
      "Note: you may need to restart the kernel to use updated packages.\n"
     ]
    }
   ],
   "source": [
    "# pip install SQLAlchemy\n",
    "# pip install mysqlclient\n",
    "# pip install pandas"
   ]
  },
  {
   "cell_type": "code",
   "execution_count": 17,
   "id": "80f4c8e3",
   "metadata": {},
   "outputs": [
    {
     "name": "stdout",
     "output_type": "stream",
     "text": [
      "Collecting pymysql\n",
      "  Using cached PyMySQL-1.0.2-py3-none-any.whl (43 kB)\n",
      "Installing collected packages: pymysql\n",
      "Successfully installed pymysql-1.0.2\n",
      "Note: you may need to restart the kernel to use updated packages.\n"
     ]
    }
   ],
   "source": [
    "pip install pymysql"
   ]
  },
  {
   "cell_type": "code",
   "execution_count": 7,
   "id": "3b430acc",
   "metadata": {},
   "outputs": [],
   "source": [
    "from sqlalchemy import create_engine\n",
    "import pandas as pd\n",
    "\n",
    "dbhost = 'rdsmysqlconn.cmr9u9cvruto.us-east-1.rds.amazonaws.com' \n",
    "dbuser = 'dheerajkumar2410' \n",
    "dbpass = 'dheerajkumar2410' \n",
    "dbname = 'customer_database'\n",
    "\n",
    "engine = create_engine('mysql+pymysql://{}:{}@{}/{}'.format(dbuser,dbpass,dbhost,dbname))\n",
    "connection = engine.connect()"
   ]
  },
  {
   "cell_type": "code",
   "execution_count": 23,
   "id": "9eaa34b6",
   "metadata": {},
   "outputs": [],
   "source": [
    "connection = engine.connect()"
   ]
  },
  {
   "cell_type": "code",
   "execution_count": 6,
   "id": "e17abecb",
   "metadata": {},
   "outputs": [
    {
     "name": "stdout",
     "output_type": "stream",
     "text": [
      "The error occurred in DB Connection\n"
     ]
    },
    {
     "ename": "UnboundLocalError",
     "evalue": "local variable 'connect' referenced before assignment",
     "output_type": "error",
     "traceback": [
      "\u001b[1;31m---------------------------------------------------------------------------\u001b[0m",
      "\u001b[1;31mUnboundLocalError\u001b[0m                         Traceback (most recent call last)",
      "\u001b[1;32m<ipython-input-6-e5556b4d7334>\u001b[0m in \u001b[0;36m<module>\u001b[1;34m\u001b[0m\n\u001b[0;32m      8\u001b[0m     \u001b[1;32mreturn\u001b[0m \u001b[0mconnect\u001b[0m\u001b[1;33m\u001b[0m\u001b[1;33m\u001b[0m\u001b[0m\n\u001b[0;32m      9\u001b[0m \u001b[1;33m\u001b[0m\u001b[0m\n\u001b[1;32m---> 10\u001b[1;33m \u001b[0mconnection\u001b[0m \u001b[1;33m=\u001b[0m \u001b[0mDatabase_connection\u001b[0m\u001b[1;33m(\u001b[0m\u001b[0mdbuser\u001b[0m\u001b[1;33m,\u001b[0m \u001b[0mdbpass\u001b[0m\u001b[1;33m,\u001b[0m \u001b[0mdbpass\u001b[0m\u001b[1;33m,\u001b[0m \u001b[0mdbname\u001b[0m\u001b[1;33m)\u001b[0m\u001b[1;33m\u001b[0m\u001b[1;33m\u001b[0m\u001b[0m\n\u001b[0m",
      "\u001b[1;32m<ipython-input-6-e5556b4d7334>\u001b[0m in \u001b[0;36mDatabase_connection\u001b[1;34m(dbuser, dbpass, dbhost, dbname)\u001b[0m\n\u001b[0;32m      6\u001b[0m     \u001b[1;32mexcept\u001b[0m\u001b[1;33m:\u001b[0m\u001b[1;33m\u001b[0m\u001b[1;33m\u001b[0m\u001b[0m\n\u001b[0;32m      7\u001b[0m         \u001b[0mprint\u001b[0m\u001b[1;33m(\u001b[0m\u001b[1;34m\"The error occurred in DB Connection\"\u001b[0m\u001b[1;33m)\u001b[0m\u001b[1;33m\u001b[0m\u001b[1;33m\u001b[0m\u001b[0m\n\u001b[1;32m----> 8\u001b[1;33m     \u001b[1;32mreturn\u001b[0m \u001b[0mconnect\u001b[0m\u001b[1;33m\u001b[0m\u001b[1;33m\u001b[0m\u001b[0m\n\u001b[0m\u001b[0;32m      9\u001b[0m \u001b[1;33m\u001b[0m\u001b[0m\n\u001b[0;32m     10\u001b[0m \u001b[0mconnection\u001b[0m \u001b[1;33m=\u001b[0m \u001b[0mDatabase_connection\u001b[0m\u001b[1;33m(\u001b[0m\u001b[0mdbuser\u001b[0m\u001b[1;33m,\u001b[0m \u001b[0mdbpass\u001b[0m\u001b[1;33m,\u001b[0m \u001b[0mdbpass\u001b[0m\u001b[1;33m,\u001b[0m \u001b[0mdbname\u001b[0m\u001b[1;33m)\u001b[0m\u001b[1;33m\u001b[0m\u001b[1;33m\u001b[0m\u001b[0m\n",
      "\u001b[1;31mUnboundLocalError\u001b[0m: local variable 'connect' referenced before assignment"
     ]
    }
   ],
   "source": [
    "def Database_connection(dbuser, dbpass, dbhost, dbname):\n",
    "    try:\n",
    "        engine = create_engine('mysql+pymysql://{}:{}@{}/{}'.format(dbuser,dbpass,dbhost,dbname))\n",
    "        connect = engine.connect()\n",
    "        print(\" MySQL DB Connected successfully\")\n",
    "    except:\n",
    "        print(\"The error occurred in DB Connection\")\n",
    "    return connect\n",
    "\n",
    "connection = Database_connection(dbuser, dbpass, dbpass, dbname)"
   ]
  },
  {
   "cell_type": "code",
   "execution_count": 8,
   "id": "57d17d8a",
   "metadata": {},
   "outputs": [
    {
     "data": {
      "text/html": [
       "<div>\n",
       "<style scoped>\n",
       "    .dataframe tbody tr th:only-of-type {\n",
       "        vertical-align: middle;\n",
       "    }\n",
       "\n",
       "    .dataframe tbody tr th {\n",
       "        vertical-align: top;\n",
       "    }\n",
       "\n",
       "    .dataframe thead th {\n",
       "        text-align: right;\n",
       "    }\n",
       "</style>\n",
       "<table border=\"1\" class=\"dataframe\">\n",
       "  <thead>\n",
       "    <tr style=\"text-align: right;\">\n",
       "      <th></th>\n",
       "      <th>Customer_id</th>\n",
       "      <th>Customer_name</th>\n",
       "      <th>Registration_date</th>\n",
       "      <th>Customer_Requirement</th>\n",
       "    </tr>\n",
       "  </thead>\n",
       "  <tbody>\n",
       "    <tr>\n",
       "      <th>0</th>\n",
       "      <td>102</td>\n",
       "      <td>Elon Musk</td>\n",
       "      <td>04-11-2013</td>\n",
       "      <td>Send and receive data using TCP IP Sockets</td>\n",
       "    </tr>\n",
       "    <tr>\n",
       "      <th>1</th>\n",
       "      <td>103</td>\n",
       "      <td>Jeff Bezos</td>\n",
       "      <td>16-06-2017</td>\n",
       "      <td>Implementation of Conversational SQL with NLP</td>\n",
       "    </tr>\n",
       "    <tr>\n",
       "      <th>2</th>\n",
       "      <td>104</td>\n",
       "      <td>Steve Jobs</td>\n",
       "      <td>21-01-2018</td>\n",
       "      <td>Create  Login Authentication With Flask SQL Se...</td>\n",
       "    </tr>\n",
       "    <tr>\n",
       "      <th>3</th>\n",
       "      <td>105</td>\n",
       "      <td>Mackenzie Scott</td>\n",
       "      <td>13-04-2016</td>\n",
       "      <td>Develope a Micro Service with Flask in AWS</td>\n",
       "    </tr>\n",
       "    <tr>\n",
       "      <th>4</th>\n",
       "      <td>106</td>\n",
       "      <td>Paval Durov</td>\n",
       "      <td>06-05-2014</td>\n",
       "      <td>Create Lambda Functions and Invoke it through ...</td>\n",
       "    </tr>\n",
       "    <tr>\n",
       "      <th>5</th>\n",
       "      <td>107</td>\n",
       "      <td>Jack Ma</td>\n",
       "      <td>18-10-2020</td>\n",
       "      <td>Develop a Deep Learning Model to Predict the e...</td>\n",
       "    </tr>\n",
       "    <tr>\n",
       "      <th>6</th>\n",
       "      <td>108</td>\n",
       "      <td>Jeaf Dean</td>\n",
       "      <td>17-06-2006</td>\n",
       "      <td>Deployment of  ML Models in AWS Ec2 instance w...</td>\n",
       "    </tr>\n",
       "    <tr>\n",
       "      <th>7</th>\n",
       "      <td>109</td>\n",
       "      <td>Robert Strenberg</td>\n",
       "      <td>09-01-2010</td>\n",
       "      <td>Create Socket workflow to send Byte Stream Data</td>\n",
       "    </tr>\n",
       "  </tbody>\n",
       "</table>\n",
       "</div>"
      ],
      "text/plain": [
       "  Customer_id     Customer_name Registration_date  \\\n",
       "0         102         Elon Musk        04-11-2013   \n",
       "1         103        Jeff Bezos        16-06-2017   \n",
       "2         104        Steve Jobs        21-01-2018   \n",
       "3         105   Mackenzie Scott        13-04-2016   \n",
       "4         106       Paval Durov        06-05-2014   \n",
       "5         107           Jack Ma        18-10-2020   \n",
       "6         108         Jeaf Dean        17-06-2006   \n",
       "7         109  Robert Strenberg        09-01-2010   \n",
       "\n",
       "                                Customer_Requirement  \n",
       "0         Send and receive data using TCP IP Sockets  \n",
       "1      Implementation of Conversational SQL with NLP  \n",
       "2  Create  Login Authentication With Flask SQL Se...  \n",
       "3         Develope a Micro Service with Flask in AWS  \n",
       "4  Create Lambda Functions and Invoke it through ...  \n",
       "5  Develop a Deep Learning Model to Predict the e...  \n",
       "6  Deployment of  ML Models in AWS Ec2 instance w...  \n",
       "7    Create Socket workflow to send Byte Stream Data  "
      ]
     },
     "execution_count": 8,
     "metadata": {},
     "output_type": "execute_result"
    }
   ],
   "source": [
    "sql =\"\"\"SELECT * FROM Customer_Database\"\"\"\n",
    "df = pd.read_sql(sql,connection)\n",
    "df"
   ]
  },
  {
   "cell_type": "code",
   "execution_count": 13,
   "id": "13e53c9d",
   "metadata": {},
   "outputs": [
    {
     "data": {
      "text/plain": [
       "True"
      ]
     },
     "execution_count": 13,
     "metadata": {},
     "output_type": "execute_result"
    }
   ],
   "source": [
    "def verify_token(token):\n",
    "\tcon=connection\n",
    "\tquery='select * from UserSession1 where token=%(token)s'\n",
    "\tval={'token':token}\n",
    "\tresult=connection.execute(query,val)\n",
    "\tif(result):\n",
    "\t\treturn True\n",
    "\telse:\n",
    "\t\treturn False\n",
    "    \n",
    "verify_token('ZB7X68OPPO5218IHITSVI25M6VHDGC61HQMHECQ1TC2QTB8V6KQC9Y2AKCAYDIEAJPBS2FDHACM')"
   ]
  },
  {
   "cell_type": "code",
   "execution_count": null,
   "id": "90b44728",
   "metadata": {},
   "outputs": [],
   "source": []
  }
 ],
 "metadata": {
  "kernelspec": {
   "display_name": "Python 3",
   "language": "python",
   "name": "python3"
  },
  "language_info": {
   "codemirror_mode": {
    "name": "ipython",
    "version": 3
   },
   "file_extension": ".py",
   "mimetype": "text/x-python",
   "name": "python",
   "nbconvert_exporter": "python",
   "pygments_lexer": "ipython3",
   "version": "3.7.10"
  }
 },
 "nbformat": 4,
 "nbformat_minor": 5
}
